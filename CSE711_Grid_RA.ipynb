{
  "cells": [
    {
      "cell_type": "code",
      "execution_count": null,
      "metadata": {
        "id": "1De30ou6Lysx",
        "colab": {
          "base_uri": "https://localhost:8080/"
        },
        "outputId": "3003621f-3391-468d-fdde-087175a92b30"
      },
      "outputs": [
        {
          "output_type": "stream",
          "name": "stdout",
          "text": [
            "Collecting gymnasium\n",
            "  Downloading gymnasium-0.29.1-py3-none-any.whl (953 kB)\n",
            "\u001b[2K     \u001b[90m━━━━━━━━━━━━━━━━━━━━━━━━━━━━━━━━━━━━━━━━\u001b[0m \u001b[32m953.9/953.9 kB\u001b[0m \u001b[31m7.6 MB/s\u001b[0m eta \u001b[36m0:00:00\u001b[0m\n",
            "\u001b[?25hRequirement already satisfied: matplotlib in /usr/local/lib/python3.10/dist-packages (3.7.1)\n",
            "Requirement already satisfied: numpy in /usr/local/lib/python3.10/dist-packages (1.23.5)\n",
            "Requirement already satisfied: cloudpickle>=1.2.0 in /usr/local/lib/python3.10/dist-packages (from gymnasium) (2.2.1)\n",
            "Requirement already satisfied: typing-extensions>=4.3.0 in /usr/local/lib/python3.10/dist-packages (from gymnasium) (4.5.0)\n",
            "Collecting farama-notifications>=0.0.1 (from gymnasium)\n",
            "  Downloading Farama_Notifications-0.0.4-py3-none-any.whl (2.5 kB)\n",
            "Requirement already satisfied: contourpy>=1.0.1 in /usr/local/lib/python3.10/dist-packages (from matplotlib) (1.1.1)\n",
            "Requirement already satisfied: cycler>=0.10 in /usr/local/lib/python3.10/dist-packages (from matplotlib) (0.12.1)\n",
            "Requirement already satisfied: fonttools>=4.22.0 in /usr/local/lib/python3.10/dist-packages (from matplotlib) (4.43.1)\n",
            "Requirement already satisfied: kiwisolver>=1.0.1 in /usr/local/lib/python3.10/dist-packages (from matplotlib) (1.4.5)\n",
            "Requirement already satisfied: packaging>=20.0 in /usr/local/lib/python3.10/dist-packages (from matplotlib) (23.2)\n",
            "Requirement already satisfied: pillow>=6.2.0 in /usr/local/lib/python3.10/dist-packages (from matplotlib) (9.4.0)\n",
            "Requirement already satisfied: pyparsing>=2.3.1 in /usr/local/lib/python3.10/dist-packages (from matplotlib) (3.1.1)\n",
            "Requirement already satisfied: python-dateutil>=2.7 in /usr/local/lib/python3.10/dist-packages (from matplotlib) (2.8.2)\n",
            "Requirement already satisfied: six>=1.5 in /usr/local/lib/python3.10/dist-packages (from python-dateutil>=2.7->matplotlib) (1.16.0)\n",
            "Installing collected packages: farama-notifications, gymnasium\n",
            "Successfully installed farama-notifications-0.0.4 gymnasium-0.29.1\n"
          ]
        }
      ],
      "source": [
        "!pip install gymnasium matplotlib numpy"
      ]
    },
    {
      "cell_type": "code",
      "execution_count": null,
      "metadata": {
        "id": "vzLSDtlzL3mt"
      },
      "outputs": [],
      "source": [
        "from google.colab import widgets\n",
        "import gymnasium as gym\n",
        "from gymnasium import spaces\n",
        "import matplotlib.pyplot as plt\n",
        "import numpy as np\n",
        "import time"
      ]
    },
    {
      "cell_type": "code",
      "execution_count": null,
      "metadata": {
        "id": "vNy_7i2jL8VQ"
      },
      "outputs": [],
      "source": [
        "class GridEnvironment(gym.Env):\n",
        "\n",
        "\n",
        "    def __init__(self):\n",
        "\n",
        "        self.observation_space = spaces.Discrete(16)\n",
        "        self.action_space = spaces.Discrete(4)\n",
        "        self.max_timesteps = 50\n",
        "        self.timestep = 0\n",
        "        self.agent_position = [0, 0]\n",
        "        self.goal_position = [3, 3]\n",
        "        self.state = np.zeros((4,4))\n",
        "        self.state[tuple(self.agent_position)] = 1\n",
        "        self.state[tuple(self.goal_position)] = 0.75\n",
        "\n",
        "\n",
        "    def reset(self):\n",
        "\n",
        "        self.state = np.zeros((4,4))\n",
        "        self.state[tuple(self.agent_position)] = 1\n",
        "        self.state[tuple(self.goal_position)] = 0.75\n",
        "        observation = self.state.flatten()\n",
        "\n",
        "        return observation\n",
        "\n",
        "    def step(self, action):\n",
        "        self.timestep += 1\n",
        "        if action == 0:\n",
        "          self.agent_position[0] += 1\n",
        "        if action == 1:\n",
        "          self.agent_position[0] -= 1\n",
        "        if action == 2:\n",
        "          self.agent_position[1] += 1\n",
        "          # uncomment for teleport\n",
        "          # self.agent_position=[2,2]\n",
        "        if action == 3:\n",
        "          self.agent_position[1] -= 1\n",
        "\n",
        "        # truncation (ENV Boundaries)\n",
        "        self.agent_position = np.clip(self.agent_position, 0, 4)\n",
        "\n",
        "        self.state = np.zeros((4,4))\n",
        "        self.state[tuple(self.agent_position)] = 1\n",
        "        self.state[tuple(self.goal_position)] = 0.75\n",
        "        observation = self.state.flatten()\n",
        "\n",
        "        reward = 0\n",
        "        if np.array_equal(self.agent_position, self.goal_position):\n",
        "          reward = 10\n",
        "\n",
        "\n",
        "\n",
        "        if (self.timestep >= self.max_timesteps):\n",
        "            terminated=True;\n",
        "        else:\n",
        "          terminated= False;\n",
        "\n",
        "        return observation, reward, terminated\n",
        "\n",
        "    def render(self):\n",
        "        plt.imshow(self.state)\n",
        "        plt.show();\n",
        "        print(self.state)"
      ]
    },
    {
      "cell_type": "code",
      "execution_count": null,
      "metadata": {
        "id": "Czjyx0D_L-it"
      },
      "outputs": [],
      "source": [
        "class RandomAgent:\n",
        "  def __init__(self, env):\n",
        "    self.env = env\n",
        "    self.observation_space = env.observation_space\n",
        "\n",
        "  def step(self, obs):\n",
        "    return np.random.choice(self.env.action_space.n)"
      ]
    },
    {
      "cell_type": "code",
      "execution_count": null,
      "metadata": {
        "colab": {
          "base_uri": "https://localhost:8080/",
          "height": 34
        },
        "id": "o333bWhuNIH3",
        "outputId": "96423261-53c6-4e83-a3e6-7b356436fe72"
      },
      "outputs": [
        {
          "output_type": "stream",
          "name": "stdout",
          "text": [
            "0\n"
          ]
        }
      ],
      "source": [
        "from google.colab import output\n",
        "env = GridEnvironment()\n",
        "agent = RandomAgent(env)\n",
        "rewardSum=0;\n",
        "\n",
        "obs = env.reset()\n",
        "terminated = False\n",
        "\n",
        "while not terminated:\n",
        "  action = agent.step(obs)\n",
        "  obs, reward, terminated = env.step(action)\n",
        "  rewardSum=rewardSum+reward;\n",
        "  env.render()\n",
        "  time.sleep(1)\n",
        "  output.clear()\n",
        "print(rewardSum);"
      ]
    },
    {
      "cell_type": "code",
      "source": [],
      "metadata": {
        "id": "9jGbnhau_b5k"
      },
      "execution_count": null,
      "outputs": []
    },
    {
      "cell_type": "code",
      "source": [],
      "metadata": {
        "id": "cUTCHaTk_tGg"
      },
      "execution_count": null,
      "outputs": []
    }
  ],
  "metadata": {
    "colab": {
      "provenance": []
    },
    "kernelspec": {
      "display_name": "Python 3 (ipykernel)",
      "language": "python",
      "name": "python3"
    },
    "language_info": {
      "codemirror_mode": {
        "name": "ipython",
        "version": 3
      },
      "file_extension": ".py",
      "mimetype": "text/x-python",
      "name": "python",
      "nbconvert_exporter": "python",
      "pygments_lexer": "ipython3",
      "version": "3.8.10"
    }
  },
  "nbformat": 4,
  "nbformat_minor": 0
}
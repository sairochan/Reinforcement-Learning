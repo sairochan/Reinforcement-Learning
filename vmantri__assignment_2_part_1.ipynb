
{
  "cells": [
    {
      "cell_type": "markdown",
      "id": "9c0d943c",
      "metadata": {
        "id": "9c0d943c"
      },
      "source": [
        "## <center>CSE 546: Reinforcement Learning</center>\n",
        "### <center>Prof. Alina Vereshchaka</center>\n",
        "<!-- ### <center>Fall 2022</center> -->\n",
        "\n",
        "Welcome to the Assignment 2, Part 1: Introduction to Deep Reinforcement Learning and Neural Networks! The goal of this assignment is to make you comfortable with the application of different Neural Network structures depending on how the Reinforcement Learning environment is set up."
      ]
    },
    {
      "cell_type": "code",
      "execution_count": null,
      "id": "c0fc19e1",
      "metadata": {
        "id": "c0fc19e1"
      },
      "outputs": [],
      "source": [
        "# Imports\n",
        "from environment import WumpusWorldEnvironment"
      ]
    },
    {
      "cell_type": "markdown",
      "id": "87890afd",
      "metadata": {
        "id": "87890afd"
      },
      "source": [
        "# Environment"
      ]
    },
    {
      "cell_type": "markdown",
      "id": "b9dc8362",
      "metadata": {
        "id": "b9dc8362"
      },
      "source": [
        "We will be working with an implementation of the Wumpus World environment. The environment comes from the book \"Artificial Intelligence: A Modern Approach\" by Stuart J. Russell and Peter Norvig. \n",
        "\n",
        "### ENVIRONMENT DETAILS:\n",
        "\n",
        "The environment is a 6 x 6 grid world containing a total of 36 grid blocks. \n",
        "\n",
        "#### ENVIRONMENT OBJECTS:\n",
        "The environment consists of the following objects:\n",
        "\n",
        "1. **Agent** - The agent starts in the grid block at the bottom left corner whose co-ordinates are [0, 0]. The goal of our agent is to collect the Gold while avoiding the Wumpus and the pits. \n",
        "\n",
        "2. **Wumpus** - The monster which would eat the agent if they are in the same grid block.\n",
        "\n",
        "3. **Pit** - The agent must avoid falling into the pits. \n",
        "\n",
        "4. **Gold** - The agent must collect the Gold.\n",
        "\n",
        "5. **Breeze** - Breeze surrounds the Pits and warn the agent of a Pit in an adjacent grid block.\n",
        "\n",
        "6. **Stench** - Stench surrounds the Wumpus and warns the agent of the Wumpus in an adjacent grid block.\n",
        "\n",
        "#### ENVIRONMENT OBSERVATIONS:\n",
        "\n",
        "Our implementation of the environment provides you with four different types of observations:\n",
        "\n",
        "1. **Integer** - Integer in the range [0 - 35]. This represents the grid block the agent is in. E.g., if the agent is in the bottom left grid block (starting position) the observation would be 0, if the agent is in the grid block containing the Gold the observation would be 34, if the agent is in the top right grid block the observation would be 35.\n",
        "\n",
        "2. **Vector** - \n",
        "\n",
        "    **2.1.** A vector of length 2 representing the agent co-ordinates. The first entry represents the x co-ordinate and the second entry represets the y co-ordinate. E.g., if the agent is in the bottom left grid block (starting position) the observation would be [0, 0], if the agent is in the grid block containing the Gold the observation would be [4, 5], if the agent is in the top right grid block the observation would be [5, 5].\n",
        "    \n",
        "    **2.2.** A vector of length 36 representing the one-hot encoding of the integer observation (refer type 1 above). E.g., if the agent is in the bottom left grid block (starting position) the observation would be [1, 0, ..., 0, 0], if the agent is in the grid block containing the Gold the observation would be [0, 0, ..., 1, 0], if the agent is in the top right grid block the observation would be [0, 0, ..., 0, 1].\n",
        "\n",
        "\n",
        "3. **Image** - Image render of the environment returned as an NumPy array. The image size is 84 * 84 (same size used in the DQN paper). E.g., if the agent is in the bottom right grid block the observation is:\n",
        "\n",
        "    Observation: (84 * 84)\n",
        "\n",
        "     [[255 255 255 ... 255 255 255]\n",
        "\n",
        "     [255 255 255 ... 255 255 255]\n",
        "\n",
        "     [255 255 255 ... 255 255 255]\n",
        "\n",
        "     ...\n",
        "\n",
        "     [255 255 255 ... 255 255 255]\n",
        "\n",
        "     [255 255 255 ... 255 255 255]\n",
        "\n",
        "     [255 255 255 ... 255 255 255]]\n",
        "\n",
        "    Observation type: <class 'numpy.ndarray'>\n",
        "\n",
        "    Observation Shape: (84, 84)\n",
        "\n",
        "    Visually, it looks like:\n",
        "    <img src=\"./images/environment_render.png\" width=\"500\" height=\"500\">\n",
        "    \n",
        "\n",
        "4. **Float** - Float in the range [0 - $\\infty$] representing the time elapsed in seconds. \n",
        "\n",
        "#### ENVIRONMENT ACTIONS:\n",
        "\n",
        "Our implementation of the environment provides you with three different types of actions:\n",
        "\n",
        "1. **Discrete** - Integer in the range [0 - 3] representing the four actions possible in the environment as follows: 0 - Right 1 - Left 2 - Up 3 - Down.\n",
        "\n",
        "2. **Multi-Discrete** - Array of length four where each element takes binary values 0 or 1. Array elements represent if we take a particular action. Array element with index 0 corresponds to the right action, index 1 corresponds to the left action, index 2 corresponds to the up action, and index 3 corresponds to the down action. E.g., \n",
        "   action = [1, 0, 0, 0] would result in the agent moving right.\n",
        "   action = [1, 0, 1, 0] would result in the agent moving right and up.\n",
        "   action = [0, 1, 0, 1] would result in the agent moving left and down.\n",
        "\n",
        "3. **Continuous** - Float in the range [-1, 1] determining whether the agent will go left, right, up, or down as follows:\n",
        "\n",
        "    if -1 <= action <= -0.5:\n",
        "        Go Right.\n",
        "    elif -0.5 < action <= 0:\n",
        "        Go Left.\n",
        "    elif 0 < action <= 0.5:\n",
        "        Go Up.\n",
        "    elif 0.5 < action <= 1:\n",
        "        Go Down.\n",
        "        \n",
        "### YOUR TASK IS TO USE A NEURAL NETWORK TO WORK WITH ALL FOUR TYPES OF OBSERVATIONS AND ALL THREE TYPES OF  ACTIONS."
      ]
    },
    {
      "cell_type": "markdown",
      "id": "a6deebbb",
      "metadata": {
        "id": "a6deebbb"
      },
      "source": [
        "<img src=\"./images/wumpus_world_environment.jpg\" width=\"600\" height=\"600\">"
      ]
    },
    {
      "cell_type": "markdown",
      "id": "f2f11e24",
      "metadata": {
        "id": "f2f11e24"
      },
      "source": [
        "# START COMPLETING YOUR ASSIGNMENT HERE"
      ]
    },
    {
      "cell_type": "markdown",
      "id": "c596cb95",
      "metadata": {
        "id": "c596cb95"
      },
      "source": [
        "The following figure shows the network structure you will have to use:\n",
        "\n",
        "<img src=\"./images/neural_network_structures/neural_network_1_64_4.png\">"
      ]
    },
    {
      "cell_type": "markdown",
      "id": "729a8768",
      "metadata": {
        "id": "729a8768"
      },
      "source": [
        "## Observation Type - Integer, Action Type - Discrete\n",
        "\n",
        "The part of the assignment requires you to create a sequential dense neural network with 1 hidden layer having 64 neurons and the output layer having 4 neurons. The input to the neural network is an integer (refer to environment observations type 1). The output of the neural network is an array represeting the Q-values from which you will choose an action (refer to environment actions type 1)."
      ]
    },
    {
      "cell_type": "code",
      "execution_count": null,
      "id": "7b1f4da4",
      "metadata": {
        "id": "7b1f4da4",
        "colab": {
          "base_uri": "https://localhost:8080/"
        },
        "outputId": "6d862ca6-9bb9-47ce-a695-b24fb4450eeb"
      },
      "outputs": [
        {
          "output_type": "stream",
          "name": "stdout",
          "text": [
            "1/1 [==============================] - 0s 78ms/step\n",
            "The Observation is:   0\n",
            "The Q-Values Values are:  [[0. 0. 0. 0.]]\n"
          ]
        }
      ],
      "source": [
        "\"\"\"TO DO: Create a neural network, pass it the observation from the environment\n",
        "and get the predicted Q-values for the four actions. Print the observation and the Q-values.\"\"\"\n",
        "\n",
        "environment = WumpusWorldEnvironment(observation_type='integer', action_type='discrete')\n",
        "observation = environment.reset()\n",
        "\n",
        "# BEGIN_YOUR_CODE\n",
        "import tensorflow as tf\n",
        "\n",
        "\n",
        "\n",
        "model = tf.keras.Sequential([\n",
        "    tf.keras.layers.Dense(1, input_shape=(1,)),\n",
        "    tf.keras.layers.Dense(64, activation='relu'),\n",
        "    tf.keras.layers.Dense(4, activation='linear')\n",
        "])\n",
        "\n",
        "q = model.predict(tf.convert_to_tensor([observation]))\n",
        "\n",
        "print(\"The Observation is:  \", observation)\n",
        "print(\"The Q-Values Values are: \", q)\n",
        "\n",
        "\n",
        "# END_YOUR_CODE"
      ]
    },
    {
      "cell_type": "markdown",
      "id": "2bb8286a",
      "metadata": {
        "id": "2bb8286a"
      },
      "source": []
    },
    {
      "cell_type": "markdown",
      "id": "b2b233bb",
      "metadata": {
        "id": "b2b233bb"
      },
      "source": [
        "## Observation Type - Vector (2.1), Action Type - Discrete\n",
        "\n",
        "The part of the assignment requires you to create a sequential dense neural network with 1 hidden layer having 64 neurons and the output layer having 4 neurons. The input to the neural network is a vector of length 2 (refer to environment observations type 2.1). The output of the neural network is an array represeting the Q-values from which you will choose an action (refer to environment actions type 1)."
      ]
    },
    {
      "cell_type": "markdown",
      "id": "0e9c4873",
      "metadata": {
        "id": "0e9c4873"
      },
      "source": [
        "The following figure shows the network structure you will have to use:\n",
        "\n",
        "<img src=\"./images/neural_network_structures/neural_network_2_64_4.png\">"
      ]
    },
    {
      "cell_type": "code",
      "execution_count": null,
      "id": "10d985b5",
      "metadata": {
        "id": "10d985b5",
        "colab": {
          "base_uri": "https://localhost:8080/"
        },
        "outputId": "0feefa63-8e9b-4c37-8f56-faae0b04630a"
      },
      "outputs": [
        {
          "output_type": "stream",
          "name": "stdout",
          "text": [
            "1/1 [==============================] - 0s 74ms/step\n",
            "The Observation is:   [0 0]\n",
            "The Q-Values Values are:  [[0. 0. 0. 0.]]\n"
          ]
        }
      ],
      "source": [
        "\"\"\"TO DO: Create a neural network, pass it the observation from the environment\n",
        "and get the predicted Q-values for the four actions. Print the observation and the Q-values.\"\"\"\n",
        "\n",
        "environment = WumpusWorldEnvironment(observation_type='vector', action_type='discrete')\n",
        "observation = environment.reset()\n",
        "\n",
        "# BEGIN_YOUR_CODE\n",
        "import tensorflow as tf\n",
        "\n",
        "\n",
        "model = tf.keras.Sequential([\n",
        "    tf.keras.layers.Dense(1, input_shape=(2,)),\n",
        "    tf.keras.layers.Dense(64, activation='relu', ),\n",
        "    tf.keras.layers.Dense(4)\n",
        "])\n",
        "\n",
        "q = model.predict(observation.reshape((1, 2)))\n",
        "\n",
        "print(\"The Observation is:  \", observation)\n",
        "print(\"The Q-Values Values are: \", q)\n",
        "\n",
        "\n",
        "# END_YOUR_CODE"
      ]
    },
    {
      "cell_type": "markdown",
      "id": "a8957b9f",
      "metadata": {
        "id": "a8957b9f"
      },
      "source": [
        "## Observation Type - Vector (2.2), Action Type - Discrete\n",
        "\n",
        "The part of the assignment requires you to create a sequential dense neural network with 1 hidden layer having 64 neurons and the output layer having 4 neurons. The input to the neural network is a vector of length 36 (refer to environment observations type 2.2). The output of the neural network is an array represeting the Q-values from which you will choose an action (refer to environment actions type 1).\n",
        "\n",
        "**HINT:** Use the integer observation and convert it to a one-hot encoded vector."
      ]
    },
    {
      "cell_type": "markdown",
      "id": "470cf5f8",
      "metadata": {
        "id": "470cf5f8"
      },
      "source": [
        "The following figure shows the network structure you will have to use:\n",
        "\n",
        "<img src=\"./images/neural_network_structures/neural_network_36_64_4.png\">"
      ]
    },
    {
      "cell_type": "code",
      "execution_count": null,
      "id": "ae05b09e",
      "metadata": {
        "id": "ae05b09e",
        "colab": {
          "base_uri": "https://localhost:8080/"
        },
        "outputId": "ceee51ec-830e-4ecf-c5f0-37bdf6b65547"
      },
      "outputs": [
        {
          "output_type": "stream",
          "name": "stdout",
          "text": [
            "0\n",
            "1/1 [==============================] - 0s 121ms/step\n",
            "The Observation is:   0\n",
            "The Q-Values Values are:  [[0. 0. 0. 0.]]\n"
          ]
        }
      ],
      "source": [
        "\"\"\"TO DO: Create a neural network, pass it the observation from the environment\n",
        "and get the predicted Q-values for the four actions. Print the observation and the Q-values.\"\"\"\n",
        "\n",
        "environment = WumpusWorldEnvironment(observation_type='integer', action_type='discrete')\n",
        "observation = environment.reset()\n",
        "\n",
        "# BEGIN_YOUR_CODE\n",
        "\n",
        "import tensorflow as tf\n",
        "\n",
        "model = tf.keras.Sequential([\n",
        "    tf.keras.layers.Dense(1, input_shape=(1,)),\n",
        "    tf.keras.layers.Dense(64, activation='relu',),\n",
        "    tf.keras.layers.Dense(4)\n",
        "])\n",
        "\n",
        "model.compile()\n",
        "\n",
        "print(observation)\n",
        "q = model.predict(tf.convert_to_tensor([observation]))\n",
        "\n",
        "print(\"The Observation is:  \", observation)\n",
        "print(\"The Q-Values Values are: \", q)\n",
        "\n",
        "\n",
        "# END_YOUR_CODE"
      ]
    },
    {
      "cell_type": "markdown",
      "id": "ce19c97b",
      "metadata": {
        "id": "ce19c97b"
      },
      "source": [
        "## Observation Type - Image, Action Type - Discrete\n",
        "\n",
        "The part of the assignment requires you to create a convolutional neural network with one convolutional layer having 128 filters of size 3 x 3, one hidden layer having 64 neurons, and the output layer having 4 neurons. The input to the neural network is an image of size 84 * 84 (refer to environment observations type 3). The output of the neural network is an array represeting the Q-values from which you will choose an action (refer to environment actions type 1)."
      ]
    },
    {
      "cell_type": "markdown",
      "id": "df3d739c",
      "metadata": {
        "id": "df3d739c"
      },
      "source": [
        "The following figure shows the network structure you will have to use:\n",
        "\n",
        "<img src=\"./images/neural_network_structures/convolutional_neural_network_84x84_128_64_4.png\">"
      ]
    },
    {
      "cell_type": "code",
      "execution_count": null,
      "id": "2044da09",
      "metadata": {
        "id": "2044da09",
        "colab": {
          "base_uri": "https://localhost:8080/"
        },
        "outputId": "1587d260-4e97-4da4-c00b-298fd0da478e"
      },
      "outputs": [
        {
          "output_type": "stream",
          "name": "stdout",
          "text": [
            "The Observation is:   [[255 255 255 ... 255 255 255]\n",
            " [255 255 255 ... 255 255 255]\n",
            " [255 255 255 ... 255 255 255]\n",
            " ...\n",
            " [255 255 255 ... 255 255 255]\n",
            " [255 255 255 ... 255 255 255]\n",
            " [255 255 255 ... 255 255 255]]\n",
            "Q-values are: tensor([-57.3956,  10.7648,  36.0904,  21.1232], grad_fn=<AddBackward0>)\n"
          ]
        }
      ],
      "source": [
        "\"\"\"TO DO: Create a neural network, pass it the observation from the environment\n",
        "and get the predicted Q-values for the four actions. Print the observation and the Q-values.\"\"\"\n",
        "\n",
        "environment = WumpusWorldEnvironment(observation_type='image', action_type='discrete')\n",
        "observation = environment.reset()\n",
        "\n",
        "# BEGIN_YOUR_CODE\n",
        "import torch\n",
        "import torch.nn as nn\n",
        "\n",
        "class QNetwork(nn.Module):\n",
        "    def __init__(self):\n",
        "        super().__init__()\n",
        "        self.conv1 = nn.Conv2d(1, 128, kernel_size=3)\n",
        "        self.relu = nn.ReLU()\n",
        "        self.fc1 = nn.Linear(128*82*82, 64)\n",
        "        self.fc2 = nn.Linear(64, 4)\n",
        "\n",
        "    def forward(self, x):\n",
        "        x = self.conv1(x)\n",
        "        x = self.relu(x)\n",
        "        x = torch.flatten(x, ) \n",
        "        x = self.fc1(x)\n",
        "        x = self.relu(x)\n",
        "        x = self.fc2(x)\n",
        "        return x\n",
        "\n",
        "\n",
        "obs_tensor = torch.tensor(observation).unsqueeze(0).float()\n",
        "q_net = QNetwork()\n",
        "q_values = q_net(obs_tensor)\n",
        "\n",
        "print(\"The Observation is:  \", observation)\n",
        "print(\"Q-values are:\", q_values)\n",
        "\n",
        "# END_YOUR_CODE"
      ]
    },
    {
      "cell_type": "markdown",
      "id": "64be04fd",
      "metadata": {
        "id": "64be04fd"
      },
      "source": [
        "## Observation Type - Float, Action Type - Discrete\n",
        "\n",
        "The part of the assignment requires you to create a sequential dense neural network with 1 hidden layer having 64 neurons and the output layer having 4 neurons. The input to the neural network is a float (refer to environment observations type 4). The output of the neural network is an array represeting the Q-values from which you will choose an action (refer to environment actions type 1)."
      ]
    },
    {
      "cell_type": "markdown",
      "id": "b7ed49e0",
      "metadata": {
        "id": "b7ed49e0"
      },
      "source": [
        "The following figure shows the network structure you will have to use:\n",
        "\n",
        "<img src=\"./images/neural_network_structures/neural_network_1_64_4.png\">"
      ]
    },
    {
      "cell_type": "code",
      "execution_count": null,
      "id": "ea0e4aa6",
      "metadata": {
        "id": "ea0e4aa6",
        "colab": {
          "base_uri": "https://localhost:8080/"
        },
        "outputId": "54339c07-4220-4675-cb9e-4695dccb314b"
      },
      "outputs": [
        {
          "output_type": "stream",
          "name": "stdout",
          "text": [
            "0.0001888275146484375 tf.Tensor([0.00018883], shape=(1,), dtype=float32)\n",
            "1/1 [==============================] - 0s 103ms/step\n",
            "The Observation is:   0.0001888275146484375\n",
            "The Q-Values Values are:  [[0. 0. 0. 0.]]\n"
          ]
        }
      ],
      "source": [
        "\"\"\"TO DO: Create a neural network, pass it the observation from the environment\n",
        "and get the predicted Q-values for the four actions. Print the observation and the Q-values.\"\"\"\n",
        "\n",
        "environment = WumpusWorldEnvironment(observation_type='float', action_type='discrete')\n",
        "observation = environment.reset()\n",
        "\n",
        "# BEGIN_YOUR_CODE\n",
        "\n",
        "import tensorflow as tf\n",
        "\n",
        "\n",
        "model = tf.keras.Sequential([\n",
        "    tf.keras.layers.Dense(1, input_shape=(1,)),\n",
        "    tf.keras.layers.Dense(64, activation='relu'),\n",
        "    tf.keras.layers.Dense(4)\n",
        "])\n",
        "\n",
        "print(observation,tf.convert_to_tensor([observation]))\n",
        "q_values = model.predict(tf.convert_to_tensor([observation]))\n",
        "\n",
        "print(\"The Observation is:  \", observation)\n",
        "print(\"The Q-Values Values are: \", Q)\n",
        "\n",
        "# END_YOUR_CODE"
      ]
    },
    {
      "cell_type": "markdown",
      "id": "27040465",
      "metadata": {
        "id": "27040465"
      },
      "source": [
        "## Observation Type - Vector (2.2), Action Type - Multi-Discrete\n",
        "\n",
        "The part of the assignment requires you to create a sequential dense neural network with 1 hidden layer having 64 neurons and the output layer having 4 neurons. The input to the neural network is a vector of length 36 (refer to environment observations type 2.2). The output of the neural network is an array representing the probability of choosing the actions. (If the value of the array element is >=0.5 you will perform the action.) (refer to environment actions type 2).\n",
        "\n",
        "**HINT:** Use the integer observation and convert it to a one-hot encoded vector."
      ]
    },
    {
      "cell_type": "markdown",
      "id": "8fe64de9",
      "metadata": {
        "id": "8fe64de9"
      },
      "source": [
        "The following figure shows the network structure you will have to use:\n",
        "\n",
        "<img src=\"./images/neural_network_structures/neural_network_36_64_4_sigmoid.png\">"
      ]
    },
    {
      "cell_type": "code",
      "execution_count": null,
      "id": "00ea3736",
      "metadata": {
        "id": "00ea3736",
        "colab": {
          "base_uri": "https://localhost:8080/"
        },
        "outputId": "3f0927a8-a733-4589-b785-2fd3884d0cfa"
      },
      "outputs": [
        {
          "output_type": "stream",
          "name": "stdout",
          "text": [
            "1/1 [==============================] - 0s 77ms/step\n",
            "Observation: 0\n",
            "Action probabilities: [ 0.09525475  0.01319437 -0.01384575 -0.03531098]\n"
          ]
        }
      ],
      "source": [
        "\n",
        "\"\"\"TO DO: Create a neural network, pass it the observation from the environment\n",
        "and get the predicted action probabilities for the four actions. Print the observation and the action probabilities.\"\"\"\n",
        "\n",
        "environment = WumpusWorldEnvironment(observation_type='integer', action_type='multi_discrete')\n",
        "observation = environment.reset()\n",
        "\n",
        "# BEGIN_YOUR_CODE\n",
        "\n",
        "import tensorflow as tf\n",
        "import numpy as np\n",
        "\n",
        "obs_vector = np.zeros((36,))\n",
        "obs_vector[observation] = 1\n",
        "\n",
        "\n",
        "model = tf.keras.Sequential([\n",
        "    Dense(1, input_shape=(36,)),\n",
        "    Dense(64, activation='relu'),\n",
        "    Dense(4)\n",
        "])\n",
        "\n",
        "\n",
        "action_probs = model.predict(obs_vector[np.newaxis, :])[0]\n",
        "\n",
        "print('Observation:', observation)\n",
        "print('Action probabilities:', action_probs)\n",
        "\n",
        "# END_YOUR_CODE"
      ]
    },
    {
      "cell_type": "markdown",
      "id": "082f05b0",
      "metadata": {
        "id": "082f05b0"
      },
      "source": [
        "## Observation Type - Vector (2.2), Action Type - Continuous\n",
        "\n",
        "The part of the assignment requires you to create a sequential dense neural network with 1 hidden layer having 64 neurons and the output layer having 1 neuron. The input to the neural network is a vector of length 36 (refer to environment observations type 2.2). The output of the neural network is an float in the range [-1, 1] determining the action which will be taken. (refer to environment actions type 3).\n",
        "\n",
        "**HINT:** Use the integer observation and convert it to a one-hot encoded vector and use the TanH activation function to get the output in the range [-1, 1]."
      ]
    },
    {
      "cell_type": "markdown",
      "id": "d8796988",
      "metadata": {
        "id": "d8796988"
      },
      "source": [
        "The following figure shows the network structure you will have to use:\n",
        "\n",
        "<img src=\"./images/neural_network_structures/neural_network_36_64_1.png\">"
      ]
    },
    {
      "cell_type": "code",
      "execution_count": null,
      "id": "b98555f1",
      "metadata": {
        "id": "b98555f1",
        "colab": {
          "base_uri": "https://localhost:8080/"
        },
        "outputId": "20007323-28ca-4855-c19d-7f997b3e8afa"
      },
      "outputs": [
        {
          "output_type": "stream",
          "name": "stdout",
          "text": [
            "1/1 [==============================] - 0s 117ms/step\n",
            "Observation:  [1. 0. 0. 0. 0. 0. 0. 0. 0. 0. 0. 0. 0. 0. 0. 0. 0. 0. 0. 0. 0. 0. 0. 0.\n",
            " 0. 0. 0. 0. 0. 0. 0. 0. 0. 0. 0. 0.]\n",
            "Predicted Action: [[-0.02415154]]\n"
          ]
        }
      ],
      "source": [
        "\"\"\"TO DO: Create a neural network, pass it the observation from the environment\n",
        "and get the predicted action. Print the observation and the predicted action.\"\"\"\n",
        "\n",
        "environment = WumpusWorldEnvironment(observation_type='integer', action_type='continuous')\n",
        "observation = environment.reset()\n",
        "\n",
        "\n",
        "\n",
        "\n",
        "# Define the neural network architecture\n",
        "model = Sequential([\n",
        "    Dense(1, input_shape=(36,)),\n",
        "    Dense(64, activation='relu'),\n",
        "    Dense(1, activation=tanh)\n",
        "])\n",
        "\n",
        "model.compile(optimizer='adam', loss='mse')\n",
        "\n",
        "observation = to_categorical(observation, num_classes=36)\n",
        "\n",
        "\n",
        "\n",
        "action = model.predict(tf.convert_to_tensor([observation]))\n",
        "\n",
        "print(\"Observation: \", observation)\n",
        "print(\"Predicted Action:\", action)\n",
        "\n",
        "\n",
        "# END_YOUR_CODE\n"
      ]
    }
  ],
  "metadata": {
    "kernelspec": {
      "display_name": "Python 3 (ipykernel)",
      "language": "python",
      "name": "python3"
    },
    "language_info": {
      "codemirror_mode": {
        "name": "ipython",
        "version": 3
      },
      "file_extension": ".py",
      "mimetype": "text/x-python",
      "name": "python",
      "nbconvert_exporter": "python",
      "pygments_lexer": "ipython3",
      "version": "3.10.1"
    },
    "colab": {
      "provenance": []
    }
  },
  "nbformat": 4,
  "nbformat_minor": 5
}
